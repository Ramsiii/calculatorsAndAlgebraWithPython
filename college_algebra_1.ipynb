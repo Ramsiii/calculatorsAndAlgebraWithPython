{
  "nbformat": 4,
  "nbformat_minor": 0,
  "metadata": {
    "colab": {
      "provenance": [],
      "collapsed_sections": [
        "MXmMYnP_M2x_"
      ],
      "include_colab_link": true
    },
    "kernelspec": {
      "name": "python3",
      "display_name": "Python 3"
    },
    "language_info": {
      "name": "python"
    }
  },
  "cells": [
    {
      "cell_type": "markdown",
      "metadata": {
        "id": "view-in-github",
        "colab_type": "text"
      },
      "source": [
        "<a href=\"https://colab.research.google.com/github/Ramsiii/calculatorsAndAlgebraWithPython/blob/main/college_algebra_1.ipynb\" target=\"_parent\"><img src=\"https://colab.research.google.com/assets/colab-badge.svg\" alt=\"Open In Colab\"/></a>"
      ]
    },
    {
      "cell_type": "markdown",
      "source": [
        "# More Algebra"
      ],
      "metadata": {
        "id": "tkEYDmi1qimH"
      }
    },
    {
      "cell_type": "markdown",
      "source": [
        "\n",
        "import sympy\n",
        "\n",
        "```\n",
        "# This is formatted as code\n",
        "```\n",
        "\n"
      ],
      "metadata": {
        "id": "yIGxjx3PyR-A"
      }
    },
    {
      "cell_type": "markdown",
      "source": [],
      "metadata": {
        "id": "spWlTtvUMhg3"
      }
    },
    {
      "cell_type": "code",
      "source": [],
      "metadata": {
        "id": "zOWmTBJDMjO5"
      },
      "execution_count": null,
      "outputs": []
    },
    {
      "cell_type": "code",
      "source": [
        "import sympy\n",
        "# the library you import to solve algebra problems with variables\n",
        "from sympy import symbols\n",
        "from sympy.solvers import solve\n",
        "\n",
        "x = symbols('x')\n",
        "\n",
        "# Put the equation here\n",
        "# eq = 2*x - 4\n",
        "# eq = 2*x**2 - 4\n",
        "eq = input('Enter equation: 0 = ')\n",
        "\n",
        "# print('x = ', solve(eq,x))\n",
        "for s in solution:\n",
        "  print('x = ', s)"
      ],
      "metadata": {
        "colab": {
          "base_uri": "https://localhost:8080/"
        },
        "id": "m0iXk_lF1Fmk",
        "outputId": "ad40c5c0-3733-42bd-ad81-492c884a87e4"
      },
      "execution_count": null,
      "outputs": [
        {
          "output_type": "stream",
          "name": "stdout",
          "text": [
            "Enter equation: 0 = 3*x-6\n",
            "x =  [2]\n"
          ]
        }
      ]
    },
    {
      "cell_type": "markdown",
      "source": [
        "# Solve For Numerator"
      ],
      "metadata": {
        "id": "FIrCQwFzyYwA"
      }
    },
    {
      "cell_type": "code",
      "source": [
        "# put a zero for the unknown value. n = numerator, d = denominator e.g. n1/d1 = n2/d2\n",
        "n1 = 1\n",
        "d1 = 2\n",
        "n2 = 0\n",
        "d2 = 16\n",
        "\n",
        "if n2==0:\n",
        "    answer = d2 * n1 / d1\n",
        "    print(\"n2 = \", answer)\n",
        "\n",
        "if d2 == 0:\n",
        "    answer = n2 * d1 / n1\n",
        "    print(\"d2 = \", answer)"
      ],
      "metadata": {
        "colab": {
          "base_uri": "https://localhost:8080/"
        },
        "id": "dbYGYLHRJxTv",
        "outputId": "b9957e93-a679-46d3-cdf9-fce2ab414f77"
      },
      "execution_count": null,
      "outputs": [
        {
          "output_type": "stream",
          "name": "stdout",
          "text": [
            "n2 =  8.0\n"
          ]
        }
      ]
    },
    {
      "cell_type": "markdown",
      "source": [],
      "metadata": {
        "id": "IIXZ7-0JEJ5b"
      }
    },
    {
      "cell_type": "markdown",
      "source": [
        "# **Solve for Kilometers or Miles**\n"
      ],
      "metadata": {
        "id": "iIc_jbzCMjjA"
      }
    },
    {
      "cell_type": "code",
      "source": [
        "# put a zero for the unknown value. m = miles (numerator), km = kilometers (denominator)\n",
        "# How many kilometers is 3 miles? 1 mile = 1.6 kilometers, so 1/1.6 = 3/km2\n",
        "m1 = 1\n",
        "km1 = 1.6\n",
        "m2 = 3\n",
        "km2 = 0\n",
        "\n",
        "if m2==0:\n",
        "    answer = km2 * m1 / km1\n",
        "    print(f\"{km2} kilomters = \", answer, \"miles\")\n",
        "\n",
        "if km2 == 0:\n",
        "    answer = m2 * km1 / m1\n",
        "    print(f\"{m2} miles = \", answer, \"kilometers\")"
      ],
      "metadata": {
        "colab": {
          "base_uri": "https://localhost:8080/"
        },
        "id": "4cy3l-PeRGDn",
        "outputId": "55aaf4f9-1e98-4679-99cf-5b5368acc9a5"
      },
      "execution_count": null,
      "outputs": [
        {
          "output_type": "stream",
          "name": "stdout",
          "text": [
            "3 miles =  4.800000000000001 kilometers\n"
          ]
        }
      ]
    },
    {
      "cell_type": "markdown",
      "source": [
        "# **Solve for X for Extras**"
      ],
      "metadata": {
        "id": "ASE52wtGENl8"
      }
    },
    {
      "cell_type": "code",
      "source": [
        "import sympy\n",
        "from sympy import symbols\n",
        "from sympy.solvers import solve\n",
        "\n",
        "x = symbols('x')\n",
        "\n",
        "y = input('Enter equation: 0 = ')\n",
        "\n",
        "solution = solve(y,x)\n",
        "print(\"x = \", solution[0])"
      ],
      "metadata": {
        "id": "Mla71ej1EuMe",
        "colab": {
          "base_uri": "https://localhost:8080/"
        },
        "outputId": "a4ebb47e-34b2-42f0-c980-3ef8da62059b"
      },
      "execution_count": null,
      "outputs": [
        {
          "output_type": "stream",
          "name": "stdout",
          "text": [
            "Enter equation: 0 = 1/2*x -5\n",
            "x =  10\n"
          ]
        }
      ]
    },
    {
      "cell_type": "markdown",
      "source": [
        "#Basic Math"
      ],
      "metadata": {
        "id": "MXmMYnP_M2x_"
      }
    },
    {
      "cell_type": "code",
      "execution_count": null,
      "metadata": {
        "id": "RTDdj77LyyT4",
        "colab": {
          "base_uri": "https://localhost:8080/"
        },
        "outputId": "2fd0d3be-69e6-4ea7-d572-e3f98fa906bf"
      },
      "outputs": [
        {
          "output_type": "stream",
          "name": "stdout",
          "text": [
            "2\n"
          ]
        }
      ],
      "source": [
        "print(1+1)"
      ]
    },
    {
      "cell_type": "code",
      "source": [
        "1+1"
      ],
      "metadata": {
        "colab": {
          "base_uri": "https://localhost:8080/"
        },
        "id": "PObaC99nqQZZ",
        "outputId": "64b8d5cb-9148-4b37-d7ea-2b204574a416"
      },
      "execution_count": null,
      "outputs": [
        {
          "output_type": "execute_result",
          "data": {
            "text/plain": [
              "2"
            ]
          },
          "metadata": {},
          "execution_count": 2
        }
      ]
    },
    {
      "cell_type": "code",
      "source": [
        "3**4"
      ],
      "metadata": {
        "colab": {
          "base_uri": "https://localhost:8080/"
        },
        "id": "A2ZvEUpDqY3d",
        "outputId": "abdb33e7-a986-4f2b-bca8-20be98cd6692"
      },
      "execution_count": null,
      "outputs": [
        {
          "output_type": "execute_result",
          "data": {
            "text/plain": [
              "81"
            ]
          },
          "metadata": {},
          "execution_count": 3
        }
      ]
    },
    {
      "cell_type": "markdown",
      "source": [
        "Solve proportions by cross multiplying the known denominator and numerators and dividing by the third. e.g. 1 mile = 1.6 km. 1m/1.6km = 3 m/x km so we multiply 3 * 1.6 and divide by 1 to solve for x km. 3 miles = 4.8 km"
      ],
      "metadata": {
        "id": "c8atCya-O37C"
      }
    },
    {
      "cell_type": "code",
      "source": [
        "3*1.6/1"
      ],
      "metadata": {
        "colab": {
          "base_uri": "https://localhost:8080/"
        },
        "id": "hwMLWFsSPkOJ",
        "outputId": "8df3de0e-e825-4ec2-ca65-b0419077a14a"
      },
      "execution_count": null,
      "outputs": [
        {
          "output_type": "execute_result",
          "data": {
            "text/plain": [
              "4.800000000000001"
            ]
          },
          "metadata": {},
          "execution_count": 6
        }
      ]
    },
    {
      "cell_type": "code",
      "source": [
        "from sympy import symbols, solve, Eq\n",
        "from sympy.parsing.sympy_parser import parse_expr\n",
        "\n",
        "x = symbols('x')\n",
        "\n",
        "# Example: 'equation = Eq(1000, 200*x)', input for rhs: '1000', for lhs: '200*x'\n",
        "\n",
        "lhs_str = input(\"Give me the expression on the left hand side: \")\n",
        "rhs_str = input(\"Give me the expression on the rigth hand side: \")\n",
        "\n",
        "lhs = parse_expr(lhs_str)\n",
        "rhs = parse_expr(rhs_str)\n",
        "\n",
        "equation = Eq(lhs, rhs)\n",
        "\n",
        "solution = solve(equation, x)\n",
        "\n",
        "# solve returns a list of solutions.\n",
        "# Calling index 0 returns only the first (in this case only) answer\n",
        "print(f\"x = {solution[0]}\")"
      ],
      "metadata": {
        "colab": {
          "base_uri": "https://localhost:8080/"
        },
        "id": "NHl1A2RxHHFh",
        "outputId": "e62fa508-80ea-4691-9cdc-e838465cbdf0"
      },
      "execution_count": 5,
      "outputs": [
        {
          "output_type": "stream",
          "name": "stdout",
          "text": [
            "Give me the expression on the left hand side: 1000\n",
            "Give me the expression on the rigth hand side: 200*x\n",
            "x = 5\n"
          ]
        }
      ]
    }
  ]
}